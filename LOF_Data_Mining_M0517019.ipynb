{
  "nbformat": 4,
  "nbformat_minor": 0,
  "metadata": {
    "colab": {
      "name": "LOF Data Mining M0517019.ipynb",
      "provenance": [],
      "authorship_tag": "ABX9TyPh/g+Q92F6C4yruCiJHqU8",
      "include_colab_link": true
    },
    "kernelspec": {
      "name": "python3",
      "display_name": "Python 3"
    }
  },
  "cells": [
    {
      "cell_type": "markdown",
      "metadata": {
        "id": "view-in-github",
        "colab_type": "text"
      },
      "source": [
        "<a href=\"https://colab.research.google.com/github/hakivin/local_outlier_factor/blob/main/LOF_Data_Mining_M0517019.ipynb\" target=\"_parent\"><img src=\"https://colab.research.google.com/assets/colab-badge.svg\" alt=\"Open In Colab\"/></a>"
      ]
    },
    {
      "cell_type": "code",
      "metadata": {
        "id": "BgCmmcuE-CzT"
      },
      "source": [
        "import numpy as np\n",
        "import math"
      ],
      "execution_count": null,
      "outputs": []
    },
    {
      "cell_type": "code",
      "metadata": {
        "id": "1gqs9wwzEzds"
      },
      "source": [
        "def euclidean(A,B):\n",
        "  return math.sqrt(sum([(a - b) ** 2 for a, b in zip(A, B)]))"
      ],
      "execution_count": null,
      "outputs": []
    },
    {
      "cell_type": "code",
      "metadata": {
        "id": "iaLFnLEyFGDF"
      },
      "source": [
        "def proximity_matrix(data):\n",
        "  size = len(data)\n",
        "  matrix = []\n",
        "  for i in range(0,size):\n",
        "    dim = []\n",
        "    for j in range(0,size):\n",
        "      dim.append(euclidean(data[i],data[j]))\n",
        "    matrix.append(dim)\n",
        "  return np.array(matrix)"
      ],
      "execution_count": null,
      "outputs": []
    },
    {
      "cell_type": "code",
      "metadata": {
        "id": "gQuguDLOT62n"
      },
      "source": [
        "def neighborhood(dist_mat):\n",
        "  size = len(dist_mat)\n",
        "  neighbor = []\n",
        "  for i in range(0,size):\n",
        "    neighbor.append(np.argsort(dist_mat[i]))\n",
        "  return np.array(neighbor)"
      ],
      "execution_count": null,
      "outputs": []
    },
    {
      "cell_type": "code",
      "metadata": {
        "id": "PcWKnpnPUvla"
      },
      "source": [
        "def average_density(dist_mat, neighbor_mat, k):\n",
        "  size = len(dist_mat)\n",
        "  density = []\n",
        "  for i in range(0,size):\n",
        "    density.append(k/(sum(dist_mat[i][neighbor_mat[i][a]] for a in range(1,k+1))))\n",
        "  return np.array(density)"
      ],
      "execution_count": null,
      "outputs": []
    },
    {
      "cell_type": "code",
      "metadata": {
        "id": "uNnmOwH7WRaK"
      },
      "source": [
        "def average_relative_density(dist_mat, neighbor_mat, avg_dens, k):\n",
        "  size = len(dist_mat)\n",
        "  avg_relative = []\n",
        "  for i in range(0, size):\n",
        "    avg_relative.append((sum(avg_dens[neighbor_mat[i][a]] for a in range(1,k+1)))/k/avg_dens[i])\n",
        "  return np.array(avg_relative)"
      ],
      "execution_count": null,
      "outputs": []
    },
    {
      "cell_type": "code",
      "metadata": {
        "id": "gsaN6b8SXtqa"
      },
      "source": [
        "def LOF(dataset, k, **kwargs):\n",
        "  threshold = kwargs.get('threshold', None)\n",
        "\n",
        "  size = len(dataset)\n",
        "\n",
        "  distance_matrix = proximity_matrix(datasets)\n",
        "  neighborhood_matrix = neighborhood(distance_matrix)\n",
        "  avg_dens = average_density(distance_matrix, neighborhood_matrix, k)\n",
        "  results = average_relative_density(distance_matrix, neighborhood_matrix, avg_dens, k)\n",
        "  if threshold is None:\n",
        "    return results\n",
        "  else:\n",
        "    outliers = []\n",
        "    for i in range(0,size):\n",
        "      if results[i] > threshold:\n",
        "        outliers.append(i)\n",
        "    return results, outliers"
      ],
      "execution_count": null,
      "outputs": []
    },
    {
      "cell_type": "code",
      "metadata": {
        "id": "aQzd-wq782MO"
      },
      "source": [
        "datasets = [[26,13,11,10,50,200,18,21,16,21],\n",
        "            [35,12,5,15,45,200,20,14,20,75]]\n",
        "datasets = np.transpose(datasets)"
      ],
      "execution_count": null,
      "outputs": []
    },
    {
      "cell_type": "code",
      "metadata": {
        "colab": {
          "base_uri": "https://localhost:8080/"
        },
        "id": "YRjUz6mnZeRY",
        "outputId": "8277ca89-6a05-468c-9967-97cbf8a86a5d"
      },
      "source": [
        "result, outliers = LOF(datasets, 3, threshold = 2)\n",
        "for i in outliers:\n",
        "  print(i, datasets[i])"
      ],
      "execution_count": null,
      "outputs": [
        {
          "output_type": "stream",
          "text": [
            "0 [26 35]\n",
            "4 [50 45]\n",
            "5 [200 200]\n",
            "9 [21 75]\n"
          ],
          "name": "stdout"
        }
      ]
    }
  ]
}